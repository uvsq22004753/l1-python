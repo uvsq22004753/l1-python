{
 "metadata": {
  "language_info": {
   "codemirror_mode": {
    "name": "ipython",
    "version": 3
   },
   "file_extension": ".py",
   "mimetype": "text/x-python",
   "name": "python",
   "nbconvert_exporter": "python",
   "pygments_lexer": "ipython3",
   "version": "3.8.5-final"
  },
  "orig_nbformat": 2,
  "kernelspec": {
   "name": "python3",
   "display_name": "Python 3"
  }
 },
 "nbformat": 4,
 "nbformat_minor": 2,
 "cells": [
  {
   "cell_type": "code",
   "execution_count": 45,
   "metadata": {},
   "outputs": [],
   "source": [
    "import tkinter as tk\n",
    "\n",
    "racine = tk.Tk()\n",
    "racine.title(\"exercice\")\n",
    "label1 = tk.Button(racine, text=\"choisir une valeur pour l'opérande gauche\", font=(\"helvetica\",\"16\"))\n",
    "label2 = tk.Button(racine, text=\"choisir une valeur pour l'opérande droite\", font=(\"helvetica\",\"16\"))\n",
    "label3 = tk.Button(racine, text=\"12\", font=(\"helvetica\",\"16\"))\n",
    "label4 = tk.Button(racine, text=\"+\", font=(\"helvetica\",\"16\"))\n",
    "label5 = tk.Button(racine, text=\"25\", font=(\"helvetica\",\"16\"))\n",
    "label6 = tk.Button(racine, text=\"=\", font=(\"helvetica\",\"16\"))\n",
    "label7 = tk.Button(racine, text=\"37\", font=(\"helvetica\",\"16\"))\n",
    "label8 = tk.Button(racine, text=\"calculer\", font=(\"helvetica\",\"16\"), bg='blue', fg='red')\n",
    "label1.grid(column=0, row=1)\n",
    "label2.grid(column=0, row=2)\n",
    "label3.grid(column = 2, row = 0)\n",
    "label3.grid(column = 3, row = 0)\n",
    "label4.grid(column = 4, row = 0)\n",
    "label5.grid(column = 5, row = 0)\n",
    "label6.grid(column = 6, row = 0)\n",
    "label7.grid(column = 7, row = 0)\n",
    "label8.grid(column = 2, row = 1, columnspan=8)\n",
    "racine.configure(bg='yellow')\n",
    "racine.mainloop()"
   ]
  },
  {
   "cell_type": "code",
   "execution_count": 46,
   "metadata": {},
   "outputs": [
    {
     "output_type": "error",
     "ename": "SyntaxError",
     "evalue": "invalid syntax (<ipython-input-46-8a204ef0bfeb>, line 14)",
     "traceback": [
      "\u001b[1;36m  File \u001b[1;32m\"<ipython-input-46-8a204ef0bfeb>\"\u001b[1;36m, line \u001b[1;32m14\u001b[0m\n\u001b[1;33m    label1 = tk.Button(racine, text=\"choisir une valeur pour l'opérande gauche\", command=valeurs_operande_gauche font=(\"helvetica\",\"16\"))\u001b[0m\n\u001b[1;37m                                                                                                                 ^\u001b[0m\n\u001b[1;31mSyntaxError\u001b[0m\u001b[1;31m:\u001b[0m invalid syntax\n"
     ]
    }
   ],
   "source": [
    "import tkinter as tk\n",
    "\n",
    "def valeurs_operande_droite():\n",
    "    input(\"entrer une valeur pour l'opérande de droite\")\n",
    "\n",
    "def valeurs_operande_gauche():\n",
    "    input(\"choisir une valeur pour l'opérande de gauche\")\n",
    "\n",
    "def calcul():\n",
    "    valeurs_opeérande_droite + valeurs_operande_gauche \n",
    "\n",
    "racine = tk.Tk()\n",
    "racine.title(\"exercice\")\n",
    "label1 = tk.Button(racine, text=\"choisir une valeur pour l'opérande gauche\", command=valeurs_operande_gauche font=(\"helvetica\",\"16\"))\n",
    "label2 = tk.Button(racine, text=\"choisir une valeur pour l'opérande droite\", command=valeurs_opeérande_droite font=(\"helvetica\",\"16\"))\n",
    "label3 = tk.Button(racine, text=\"12\", font=(\"helvetica\",\"16\"))\n",
    "label4 = tk.Button(racine, text=\"+\", font=(\"helvetica\",\"16\"))\n",
    "label5 = tk.Button(racine, text=\"25\", font=(\"helvetica\",\"16\"))\n",
    "label6 = tk.Button(racine, text=\"=\", font=(\"helvetica\",\"16\"))\n",
    "label7 = tk.Button(racine, text=\"37\", font=(\"helvetica\",\"16\"))\n",
    "label8 = tk.Button(racine, text=\"calculer\", font=(\"helvetica\",\"16\"), bg='blue', fg='red')\n",
    "label1.grid(column=0, row=1)\n",
    "label2.grid(column=0, row=2)\n",
    "label3.grid(column = 2, row = 0)\n",
    "label3.grid(column = 3, row = 0)\n",
    "label4.grid(column = 4, row = 0)\n",
    "label5.grid(column = 5, row = 0)\n",
    "label6.grid(column = 6, row = 0)\n",
    "label7.grid(column = 7, row = 0)\n",
    "label8.grid(column = 2, row = 1, columnspan=8)\n",
    "racine.configure(bg='yellow')\n",
    "racine.mainloop()\n",
    "  "
   ]
  },
  {
   "cell_type": "code",
   "execution_count": null,
   "metadata": {},
   "outputs": [],
   "source": []
  }
 ]
}