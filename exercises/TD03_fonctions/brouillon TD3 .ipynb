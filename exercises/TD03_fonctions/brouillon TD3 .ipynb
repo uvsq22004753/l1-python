{
 "metadata": {
  "language_info": {
   "codemirror_mode": {
    "name": "ipython",
    "version": 3
   },
   "file_extension": ".py",
   "mimetype": "text/x-python",
   "name": "python",
   "nbconvert_exporter": "python",
   "pygments_lexer": "ipython3",
   "version": "3.8.5-final"
  },
  "orig_nbformat": 2,
  "kernelspec": {
   "name": "Python 3.8.5 64-bit ('l1-python': conda)",
   "display_name": "Python 3.8.5 64-bit ('l1-python': conda)",
   "metadata": {
    "interpreter": {
     "hash": "ca722e5cbebffff18c2747035ca8d2e532d25cc6638ec7484ba653f8c47584ff"
    }
   }
  }
 },
 "nbformat": 4,
 "nbformat_minor": 2,
 "cells": [
  {
   "cell_type": "code",
   "execution_count": 28,
   "metadata": {},
   "outputs": [],
   "source": [
    "def tempsEnSeconde(temps):\n",
    "    \"\"\" Renvoie la valeur en seconde de temps donné comme jour, heure, minute, seconde.\"\"\"\n",
    "    return 86400 * temps[0] + 3600 * temps[1] + 60 * temps[2] + temps[3]"
   ]
  },
  {
   "cell_type": "code",
   "execution_count": 29,
   "metadata": {},
   "outputs": [
    {
     "output_type": "stream",
     "name": "stdout",
     "text": [
      "<class 'tuple'>\n342094\n"
     ]
    }
   ],
   "source": [
    "temps = (3,23,1,34)\n",
    "print(type(temps))\n",
    "print(tempsEnSeconde(temps))  "
   ]
  },
  {
   "cell_type": "code",
   "execution_count": 33,
   "metadata": {},
   "outputs": [],
   "source": [
    "def secondeEnTemps(seconde):\n",
    "    \"\"\"Renvoie le temps (jour, heure, minute, seconde) qui correspond au nombre de seconde passé en argument\"\"\"\n",
    "    vraies_secondes = seconde % 60 \n",
    "    minutes = seconde // 60 \n",
    "    vraies_minutes = minutes % 60 \n",
    "    heures = minutes // 60 \n",
    "    vraies_heures = heures % 24\n",
    "    vrais_jours = heures // 24\n",
    "    return (vrais_jours,vraies_heures,vraies_minutes,vraies_secondes)"
   ]
  },
  {
   "cell_type": "code",
   "execution_count": 35,
   "metadata": {},
   "outputs": [
    {
     "output_type": "stream",
     "name": "stdout",
     "text": [
      "3 jours 23 heures 1 minutes 34 secondes\n"
     ]
    }
   ],
   "source": [
    "temps = secondeEnTemps(100000)\n",
    "print(temps[0],\"jours\",temps[1],\"heures\",temps[2],\"minutes\",temps[3],\"secondes\")"
   ]
  },
  {
   "cell_type": "code",
   "execution_count": 27,
   "metadata": {},
   "outputs": [],
   "source": [
    "def afficheTemps(temps):\n",
    "    valeurs = [\"jour\", \"heure\", \"minute\", \"seconde\"]\n",
    "    affichage = \" \"\n",
    "    for i, j in zip(temps, valeurs) : \n",
    "        if i == 1 : \n",
    "            affichage = affichage + str(i) + \" \" + j + \" \"\n",
    "        elif i > 1 : \n",
    "            affichage = affichage + str(i) + \" \" + j + 's' + \" \" \n",
    "    return affichage "
   ]
  },
  {
   "cell_type": "code",
   "execution_count": 28,
   "metadata": {},
   "outputs": [
    {
     "output_type": "stream",
     "name": "stdout",
     "text": [
      " 1 jour 14 minutes 23 secondes \n"
     ]
    }
   ],
   "source": [
    "print(afficheTemps((1,0,14,23)))"
   ]
  },
  {
   "cell_type": "code",
   "execution_count": 68,
   "metadata": {},
   "outputs": [],
   "source": [
    "import sys \n",
    "def demandeTemps():\n",
    "    donnees = []\n",
    "    demande = 0 \n",
    "    consigne = (\"jours\", \"heures\", \"minutes\", \"secondes\")\n",
    "    for i, j in  zip(range(0,4), consigne):\n",
    "        phrase_consigne = \"entrer un nombre de\" + \" \" + j\n",
    "        demande = int(input(phrase_consigne))\n",
    "        if (i == 0 and demande >= 0) or (i == 1 and 0 <= demande < 24) or (i == 2 and 0 <= demande < 60) \\\n",
    "            or (i == 3 and 0 <= demande < 60): \n",
    "            donnees += [demande]\n",
    "        else : \n",
    "            sys.exit(0)\n",
    "    return tuple(donnees)\n",
    "        "
   ]
  },
  {
   "cell_type": "code",
   "execution_count": 69,
   "metadata": {},
   "outputs": [
    {
     "output_type": "stream",
     "name": "stdout",
     "text": [
      "(21, 23, 45, 54)\n"
     ]
    }
   ],
   "source": [
    "print(demandeTemps())"
   ]
  },
  {
   "cell_type": "code",
   "execution_count": null,
   "metadata": {},
   "outputs": [],
   "source": [
    "def demandeTemps():\n",
    "    donnees = []\n",
    "    demande = 0 \n",
    "    consigne = (\"jours\", \"heures\", \"minutes\", \"secondes\")\n",
    "    for i, j in  zip(range(0,4), consigne):\n",
    "        phrase_consigne = \"entrer un nombre de\" + \" \" + j\n",
    "        while (i == 0 and not demande >= 0) or (i == 1 and not 0 <= demande < 24) or \\\n",
    "        (i == 2 and not 0 <= demande < 60) or (i == 3 and not 0 <= demande < 60): \n",
    "            demande = int(input(phrase_consigne))\n",
    "        \n",
    "    return tuple(donnees)"
   ]
  }
 ]
}