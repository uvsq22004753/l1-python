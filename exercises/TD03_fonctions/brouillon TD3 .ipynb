{
 "metadata": {
  "language_info": {
   "codemirror_mode": {
    "name": "ipython",
    "version": 3
   },
   "file_extension": ".py",
   "mimetype": "text/x-python",
   "name": "python",
   "nbconvert_exporter": "python",
   "pygments_lexer": "ipython3",
   "version": "3.8.5-final"
  },
  "orig_nbformat": 2,
  "kernelspec": {
   "name": "Python 3.8.5 64-bit ('l1-python': conda)",
   "display_name": "Python 3.8.5 64-bit ('l1-python': conda)",
   "metadata": {
    "interpreter": {
     "hash": "ca722e5cbebffff18c2747035ca8d2e532d25cc6638ec7484ba653f8c47584ff"
    }
   }
  }
 },
 "nbformat": 4,
 "nbformat_minor": 2,
 "cells": [
  {
   "cell_type": "code",
   "execution_count": 65,
   "metadata": {},
   "outputs": [],
   "source": [
    "def tempsEnSeconde(temps):\n",
    "    \"\"\" Renvoie la valeur en seconde de temps donné comme jour, heure, minute, seconde.\"\"\"\n",
    "    return 86400 * temps[0] + 3600 * temps[1] + 60 * temps[2] + temps[3]"
   ]
  },
  {
   "cell_type": "code",
   "execution_count": 139,
   "metadata": {},
   "outputs": [
    {
     "output_type": "stream",
     "name": "stdout",
     "text": [
      "1000000000\n"
     ]
    }
   ],
   "source": [
    "print(tempsEnSeconde((11574, 1, 46, 40)))"
   ]
  },
  {
   "cell_type": "code",
   "execution_count": 84,
   "metadata": {},
   "outputs": [],
   "source": [
    "def secondeEnTemps(seconde):\n",
    "    vraies_secondes = seconde % 60\n",
    "    minutes = seconde // 60 \n",
    "    vraies_minutes = minutes % 60 \n",
    "    heures = minutes // 60\n",
    "    vraies_heures = heures % 24\n",
    "    vraies_jours = heures // 24\n",
    "    return (vraies_jours, vraies_heures, vraies_minutes, vraies_secondes)"
   ]
  },
  {
   "cell_type": "code",
   "execution_count": 138,
   "metadata": {},
   "outputs": [
    {
     "output_type": "stream",
     "name": "stdout",
     "text": [
      "(11574, 1, 46, 40)\n"
     ]
    }
   ],
   "source": [
    "print(secondeEnTemps(1000000000))"
   ]
  },
  {
   "cell_type": "code",
   "execution_count": 67,
   "metadata": {},
   "outputs": [],
   "source": [
    "def afficheTemps(temps):\n",
    "    valeurs = [\"jour\", \"heure\", \"minute\", \"seconde\"]\n",
    "    affichage = \" \"\n",
    "    for i, j in zip(temps, valeurs) : \n",
    "        if i == 1 : \n",
    "            affichage = affichage + str(i) + \" \" + j + \" \"\n",
    "        elif i > 1 : \n",
    "            affichage = affichage + str(i) + \" \" + j + 's' + \" \" \n",
    "    print(affichage) "
   ]
  },
  {
   "cell_type": "code",
   "execution_count": 68,
   "metadata": {},
   "outputs": [],
   "source": [
    "import sys \n",
    "def demandeTemps():\n",
    "    donnees = []\n",
    "    demande = 0 \n",
    "    consigne = (\"jours\", \"heures\", \"minutes\", \"secondes\")\n",
    "    for i, j in  zip(range(0,4), consigne):\n",
    "        phrase_consigne = \"entrer un nombre de\" + \" \" + j\n",
    "        demande = int(input(phrase_consigne))\n",
    "        if (i == 0 and demande >= 0) or (i == 1 and 0 <= demande < 24) or (i == 2 and 0 <= demande < 60) \\\n",
    "            or (i == 3 and 0 <= demande < 60): \n",
    "            donnees += [demande]\n",
    "        else : \n",
    "            sys.exit(\"erreur de saisie\")\n",
    "    return tuple(donnees)\n",
    "        "
   ]
  },
  {
   "cell_type": "code",
   "execution_count": 69,
   "metadata": {},
   "outputs": [],
   "source": [
    "import sys \n",
    "def demandeTemps2():\n",
    "    donnees = []\n",
    "    demande = 0 \n",
    "    consigne = (\"jours\", \"heures\", \"minutes\", \"secondes\")\n",
    "    for i, j in  zip(range(0,4), consigne):\n",
    "        phrase_consigne = \"entrer un nombre de\" + \" \" + j\n",
    "        demande = int(input(phrase_consigne))\n",
    "        while not ((i == 0 and demande >= 0) or (i == 1 and 0 <= demande < 24) or (i == 2 and 0 <= demande < 60) \\\n",
    "            or (i == 3 and 0 <= demande < 60)): \n",
    "                demande = int(input(phrase_consigne))\n",
    "        donnees += [demande]\n",
    "    return tuple(donnees)"
   ]
  },
  {
   "cell_type": "code",
   "execution_count": 70,
   "metadata": {},
   "outputs": [],
   "source": [
    "def sommeTemps(temps1,temps2):\n",
    "    \"\"\" additionne deux temps et renvoie un tuple\"\"\"\n",
    "    somme_temps = tempsEnSeconde(temps1) + tempsEnSeconde(temps2)\n",
    "    return secondeEnTemps(somme_temps)\n"
   ]
  },
  {
   "cell_type": "code",
   "execution_count": 71,
   "metadata": {},
   "outputs": [],
   "source": [
    "def proportionTemps(temps,proportion):\n",
    "    temps_seconde = tempsEnSeconde(temps)\n",
    "    temps_proportionné_seconde = temps_seconde * proportion\n",
    "    return secondeEnTemps(temps_proportionné_seconde)"
   ]
  },
  {
   "cell_type": "code",
   "execution_count": 100,
   "metadata": {},
   "outputs": [],
   "source": [
    "def tempsEnDate(temps):\n",
    "    \"\"\" donne la date sous la forme (année, jours, heures, minutes, secondes)\"\"\"\n",
    "    annee = temps[0] // 365\n",
    "    jours = temps[0] % 365 \n",
    "    return (1970 + annee, jours + 1, temps[1], temps[2], temps[3])\n",
    "\n",
    "    "
   ]
  },
  {
   "cell_type": "code",
   "execution_count": 176,
   "metadata": {},
   "outputs": [],
   "source": [
    "def afficheDate(date):\n",
    "    \"\"\"affiche la date selon ce modèle : jours mois années heures minutes secondes\"\"\"\n",
    "    mois = [\"janvier\", \"février\", \"mars\", \"avril\", \"mai\", \"juin\", \"juillet\", \"août\", \"septembre\", \"octobre\", \"novembre\", \"décembre\"]\n",
    "    jours_mois = [31, 59, 90, 120, 151, 181, 212, 243, 273, 304, 334, 365]\n",
    "    valeurs = [\"heure\", \"minute\", \"seconde\"]\n",
    "    affichage = \" \"\n",
    "\n",
    "    for i in range(0,len(jours_mois) + 1):\n",
    "        if i == 0 and date[1] <= jours_mois[1]:\n",
    "            affichage = affichage + str(date[1]) + \" \" + mois[i] + \" \" + str(date[0]) + \" \"\n",
    "        elif i > 0 and jours_mois[i - 1] < date[1] <= jours_mois[i]:\n",
    "            affichage = affichage + str(date[1]-jours_mois[i-1]) + \" \" + mois[i] + \" \" + str(date[0]) + \" \"\n",
    "\n",
    "    for i, j in zip(date[2:], valeurs):\n",
    "        if i == 1:\n",
    "            affichage = affichage + str(i) + \" \" + j + \" \"\n",
    "        elif i > 1:\n",
    "            affichage = affichage + str(i) + \" \" + j + 's' + \" \"\n",
    "\n",
    "    print(affichage)  \n"
   ]
  },
  {
   "cell_type": "code",
   "execution_count": 177,
   "metadata": {},
   "outputs": [
    {
     "output_type": "stream",
     "name": "stdout",
     "text": [
      " 2 janvier 1987 4 heures 5 minutes 4 secondes \n"
     ]
    }
   ],
   "source": [
    "afficheDate((1987,2,4,5,4))"
   ]
  },
  {
   "cell_type": "code",
   "execution_count": 145,
   "metadata": {},
   "outputs": [],
   "source": [
    "def bisextile(jours):\n",
    "    annee = 1970 + (jours // 365)\n",
    "    annee_bisextile = []\n",
    "    for i in range(1970, annee + 1):\n",
    "        if (int(i) % 4 == 0) and (int(i) % 100 != 0 or (int(i) % 100 == 0 and int(i) % 400 == 0)) :\n",
    "            annee_bisextile += [i]\n",
    "    return annee_bisextile"
   ]
  },
  {
   "cell_type": "code",
   "execution_count": 143,
   "metadata": {},
   "outputs": [],
   "source": [
    "def nombreBisextile(jour):\n",
    "    return len(bisextile(jour))"
   ]
  },
  {
   "cell_type": "code",
   "execution_count": 150,
   "metadata": {},
   "outputs": [],
   "source": [
    "def tempsEnDateBisextile(temps):\n",
    "    \"\"\" donne la date sous la forme (année, jours, heures, minutes, secondes) en prenant en compte les années bissextiles \"\"\"\n",
    "    annee = (temps[0] - nombreBisextile(temps[0])) // 365\n",
    "    jours = (temps[0] - nombreBisextile(temps[0])) % 365 \n",
    "    return (1970 + annee, jours + 1, temps[1], temps[2], temps[3])"
   ]
  },
  {
   "cell_type": "code",
   "execution_count": 151,
   "metadata": {},
   "outputs": [
    {
     "output_type": "stream",
     "name": "stdout",
     "text": [
      " 11574 jours 1 heure 46 minutes 40 secondes \n[1972, 1976, 1980, 1984, 1988, 1992, 1996, 2000]\n8\n 9 septembre 2001 1 heure 46 minutes 40 secondes \n"
     ]
    }
   ],
   "source": [
    "temps = secondeEnTemps(1000000000)\n",
    "afficheTemps(temps)\n",
    "print(bisextile(temps[0]))\n",
    "print(nombreBisextile(temps[0]))\n",
    "afficheDate(tempsEnDateBisextile(temps))"
   ]
  },
  {
   "cell_type": "code",
   "execution_count": 181,
   "metadata": {},
   "outputs": [
    {
     "output_type": "execute_result",
     "data": {
      "text/plain": [
       "time.struct_time(tm_year=2020, tm_mon=10, tm_mday=20, tm_hour=9, tm_min=12, tm_sec=56, tm_wday=1, tm_yday=294, tm_isdst=0)"
      ]
     },
     "metadata": {},
     "execution_count": 181
    }
   ],
   "source": [
    "import time\n",
    "time.gmtime(int(time.time()))"
   ]
  },
  {
   "cell_type": "code",
   "execution_count": 184,
   "metadata": {},
   "outputs": [],
   "source": [
    "import time \n",
    "def afficheDate2(date = tempsEnDateBisextile(secondeEnTemps(int(time.time())))):\n",
    "    \"\"\"affiche la date selon ce modèle : jours mois années heures minutes secondes\"\"\"\n",
    "    mois = [\"janvier\", \"février\", \"mars\", \"avril\", \"mai\", \"juin\", \"juillet\", \"août\", \"septembre\", \"octobre\", \"novembre\", \"décembre\"]\n",
    "    jours_mois = [31, 59, 90, 120, 151, 181, 212, 243, 273, 304, 334, 365]\n",
    "    valeurs = [\"heure\", \"minute\", \"seconde\"]\n",
    "    affichage = \" \"\n",
    "\n",
    "    for i in range(0,len(jours_mois) + 1):\n",
    "        if i == 0 and date[1] <= jours_mois[1]:\n",
    "            affichage = affichage + str(date[1]) + \" \" + mois[i] + \" \" + str(date[0]) + \" \"\n",
    "        elif i > 0 and jours_mois[i - 1] < date[1] <= jours_mois[i]:\n",
    "            affichage = affichage + str(date[1]-jours_mois[i-1]) + \" \" + mois[i] + \" \" + str(date[0]) + \" \"\n",
    "\n",
    "    for i, j in zip(date[2:], valeurs):\n",
    "        if i == 1:\n",
    "            affichage = affichage + str(i) + \" \" + j + \" \"\n",
    "        elif i > 1:\n",
    "            affichage = affichage + str(i) + \" \" + j + 's' + \" \"\n",
    "\n",
    "    print(affichage)\n"
   ]
  },
  {
   "cell_type": "code",
   "execution_count": 185,
   "metadata": {},
   "outputs": [
    {
     "output_type": "stream",
     "name": "stdout",
     "text": [
      " 20 octobre 2020 9 heures 40 minutes 44 secondes \n"
     ]
    }
   ],
   "source": [
    "afficheDate2()"
   ]
  },
  {
   "cell_type": "code",
   "execution_count": 196,
   "metadata": {},
   "outputs": [],
   "source": [
    "def verifie(liste_temps):\n",
    "    liste_temps_seconde_semaine = []\n",
    "    temps_seconde_mois = 0\n",
    "    for i in liste_temps:\n",
    "        liste_temps_seconde_semaine += [tempsEnSeconde(tuple(i))]\n",
    "        temps_seconde_mois += tempsEnSeconde(tuple(i))\n",
    "    for i in liste_temps_seconde_semaine:\n",
    "        if i > tempsEnSeconde((2,0,0,0)) : \n",
    "            print(\"L'employé à trop travailler.\")\n",
    "    if temps_seconde_mois > tempsEnSeconde((5,20,0,0)):\n",
    "        print(\"L'employé à trop travailler.\")\n",
    "    else:\n",
    "        print(\"La charge de travail de l'employé est dans la norme.\", secondeEnTemps(temps_seconde_mois))\n",
    "    \n",
    "    "
   ]
  },
  {
   "cell_type": "code",
   "execution_count": 197,
   "metadata": {},
   "outputs": [
    {
     "output_type": "stream",
     "name": "stdout",
     "text": [
      "La charge de travail de l'employé est dans la norme. (3, 16, 42, 15)\n"
     ]
    }
   ],
   "source": [
    "liste_temps = [[1,2,39,34],[0,1,9,4],[0,29,39,51],[0,31,13,46]]\n",
    "verifie(liste_temps)"
   ]
  },
  {
   "cell_type": "code",
   "execution_count": null,
   "metadata": {},
   "outputs": [],
   "source": []
  }
 ]
}