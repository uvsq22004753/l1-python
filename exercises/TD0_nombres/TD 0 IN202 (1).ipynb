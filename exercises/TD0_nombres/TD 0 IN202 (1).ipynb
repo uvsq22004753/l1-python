{
 "cells": [
  {
   "cell_type": "markdown",
   "metadata": {},
   "source": [
    "# TD0 Représentation de nombres"
   ]
  },
  {
   "cell_type": "markdown",
   "metadata": {},
   "source": [
    "Convertir en binaire le nombre 115 (en effectuant des divisions successives par 2). "
   ]
  },
  {
   "source": [
    "1110011"
   ],
   "cell_type": "markdown",
   "metadata": {}
  },
  {
   "cell_type": "markdown",
   "metadata": {},
   "source": [
    "On représente un entier en binaire par une liste de 0 et de 1. Donner une fonction `conversionBase2(nombre)`\n",
    "qui transforme un entier en sa représentation binaire. Attention, les bits sont calculés dans l'ordre inverse\n",
    "(little endian), il faudra sans doute renverser la liste avec la méthode `.reverse()`."
   ]
  },
  {
   "cell_type": "code",
   "execution_count": 50,
   "metadata": {},
   "outputs": [
    {
     "output_type": "stream",
     "name": "stdout",
     "text": [
      "[1, 1, 1, 0, 0, 1, 1]\n[0]\n"
     ]
    }
   ],
   "source": [
    "def conversionBase2(nombre):\n",
    "    res = []\n",
    "    if nombre == 0 :\n",
    "        return [0]\n",
    "    while nombre != 0 : \n",
    "        res.append(nombre % 2)\n",
    "        nombre = nombre // 2\n",
    "    return res[::-1]\n",
    "\n",
    "print(conversionBase2(115))\n",
    "print(conversionBase2(0))"
   ]
  },
  {
   "cell_type": "markdown",
   "metadata": {},
   "source": [
    "Faire une fonction d'affichage d'une liste représentant un nombre en binaire. Pour afficher avec `print` sans passer à la ligne il faut utiliser l'argument optionnel `end=\"\"`."
   ]
  },
  {
   "cell_type": "code",
   "execution_count": 51,
   "metadata": {},
   "outputs": [
    {
     "output_type": "stream",
     "name": "stdout",
     "text": [
      "1110011"
     ]
    }
   ],
   "source": [
    "def afficheBase(liste):\n",
    "        for i in liste :\n",
    "                print(i, end=\"\")\n",
    "\n",
    "afficheBase(conversionBase2(115))"
   ]
  },
  {
   "cell_type": "markdown",
   "metadata": {},
   "source": [
    "Convertir un nombre dans n'importe quelle base b (représenté comme une liste des chiffres dans cette base).\n",
    "Que faut-il changer dans afficheBase pour gérer n'importe quelle base ?"
   ]
  },
  {
   "source": [
    "Il faut changer l'élément 2 que l'on a utilisé dans la dernière fonction afin de passé de la base 10 à la base 2. "
   ],
   "cell_type": "markdown",
   "metadata": {}
  },
  {
   "cell_type": "code",
   "execution_count": 63,
   "metadata": {},
   "outputs": [
    {
     "output_type": "execute_result",
     "data": {
      "text/plain": [
       "[1, 1, 1, 0, 0, 1, 1]"
      ]
     },
     "metadata": {},
     "execution_count": 63
    }
   ],
   "source": [
    "def conversionBase(nombre,b):\n",
    "    res = []\n",
    "    if nombre == 0 :\n",
    "        return [0]\n",
    "    while nombre > 0 : \n",
    "        res.append(nombre % b)\n",
    "        nombre = nombre // b\n",
    "    return res[::-1]\n",
    "\n",
    "conversionBase(115,2)"
   ]
  },
  {
   "cell_type": "markdown",
   "metadata": {},
   "source": [
    "Quelles sont les nombres entiers qu'on peut écrire avec n chiffres en base b ?"
   ]
  },
  {
   "source": [
    "b**n chiffres "
   ],
   "cell_type": "markdown",
   "metadata": {}
  },
  {
   "cell_type": "markdown",
   "metadata": {},
   "source": [
    "Écrire une fonction d'affichage pour un nombre en Hexadécimal (en base 16).\n",
    "On rappelle que 10 doit être représenté par A, 11 par B ..."
   ]
  },
  {
   "cell_type": "code",
   "execution_count": 53,
   "metadata": {},
   "outputs": [
    {
     "output_type": "stream",
     "name": "stdout",
     "text": [
      "22B8"
     ]
    }
   ],
   "source": [
    "def afficheBaseHexa(liste):\n",
    "    for i in liste : \n",
    "        if i < 10 : \n",
    "           print(i,end=\"\") \n",
    "        elif i == 10 : \n",
    "            print(\"A\",end=\"\")\n",
    "        elif i == 11 : \n",
    "            print(\"B\",end=\"\")\n",
    "        elif i == 12 : \n",
    "            print(\"C\",end=\"\")\n",
    "        elif i == 13 : \n",
    "            print(\"D\",end=\"\")\n",
    "        elif i == 14 : \n",
    "            print(\"E\",end=\"\")\n",
    "        elif i == 15 : \n",
    "            print(\"F\",end=\"\")\n",
    "            \n",
    "afficheBaseHexa(conversionBase(8888,16))"
   ]
  },
  {
   "source": [
    "Donner la valeur de (1001101)_2 (dans la représentation traditionnelle en base 10).\n",
    "Écrire une fonction qui transforme la représentation en base b d'un entier en cet entier."
   ],
   "cell_type": "code",
   "metadata": {},
   "execution_count": null,
   "outputs": []
  },
  {
   "source": [
    "Il s'afit du nombre 77 en base décimale. "
   ],
   "cell_type": "markdown",
   "metadata": {}
  },
  {
   "cell_type": "code",
   "execution_count": 66,
   "metadata": {},
   "outputs": [
    {
     "output_type": "execute_result",
     "data": {
      "text/plain": [
       "115"
      ]
     },
     "metadata": {},
     "execution_count": 66
    }
   ],
   "source": [
    "def conversionEntier(liste,b):\n",
    "    res = 0\n",
    "    for i in range(len(liste)):\n",
    "        res += liste[len(liste) - i -1]*(b**i)\n",
    "    return res\n",
    "\n",
    "test = conversionBase(115,2)\n",
    "conversionEntier(test,2)"
   ]
  },
  {
   "cell_type": "markdown",
   "metadata": {},
   "source": [
    "Additioner $(10001101)_2$ et $(10111001)_2$ à la main. "
   ]
  },
  {
   "source": [
    "Le résultats est 326 en base décimale ce qui donne 101000110 en base 2. "
   ],
   "cell_type": "markdown",
   "metadata": {}
  },
  {
   "cell_type": "markdown",
   "metadata": {},
   "source": [
    "On a `l` un nombre en base b et on veut l'écrire sur n chiffres (en ajoutant des 0 devant). Donner une fonction pour réaliser cette transformation."
   ]
  },
  {
   "cell_type": "code",
   "execution_count": 67,
   "metadata": {},
   "outputs": [
    {
     "output_type": "execute_result",
     "data": {
      "text/plain": [
       "[0, 0, 0, 1, 1, 1, 0, 0, 1, 1]"
      ]
     },
     "metadata": {},
     "execution_count": 67
    }
   ],
   "source": [
    "def etendreEcriture(l,n):\n",
    "    taille = n - len(l)\n",
    "    res = [0]*taille\n",
    "    res.extend(l)\n",
    "    return res\n",
    "\n",
    "etendreEcriture(test,10)"
   ]
  },
  {
   "cell_type": "markdown",
   "metadata": {},
   "source": [
    "Réaliser ensuite un programme qui additionne la représentation en base b de deux entiers `l1` et `l2`.\n",
    "On pourra utiliser la méthode `.insert(pos,val)` qui ajoute val à la position pos."
   ]
  },
  {
   "cell_type": "code",
   "execution_count": 73,
   "metadata": {},
   "outputs": [
    {
     "output_type": "execute_result",
     "data": {
      "text/plain": [
       "[1, 0, 0, 0, 0]"
      ]
     },
     "metadata": {},
     "execution_count": 73
    }
   ],
   "source": [
    "#Solution du tricheur, qui sait que les entiers ont une taille non bornée en python\n",
    "\n",
    "def additionTricheur(l1,l2,b):\n",
    "    return conversionBase(conversionEntier(l1,b)+conversionEntier(l2,b),b)\n",
    "\n",
    "#Algorithme d'addition du primaire\n",
    "\n",
    "def addition(l1,l2,b):\n",
    "    if(len(l1) > len(l2)):\n",
    "        l2 = etendreEcriture(l2,len(l1))\n",
    "    else:\n",
    "        l1 = etendreEcriture(l1,len(l2))\n",
    "    taille = len(l1)\n",
    "    retenue = 0\n",
    "    res = []\n",
    "    for i in range(taille):\n",
    "        v = l1[taille - i -1] + l2[taille - i -1] + retenue\n",
    "        retenue = 0\n",
    "        if(v > b-1):\n",
    "            retenue = 1\n",
    "            v = v - b         \n",
    "        res.insert(0,v)\n",
    "    if(retenue == 1):\n",
    "        res.insert(0,1)\n",
    "    return res\n",
    "\n",
    "test1 = conversionBase(8,2)\n",
    "test2 = conversionBase(8,2)\n",
    "\n",
    "addition(test1,test2,2)"
   ]
  }
 ],
 "metadata": {
  "kernelspec": {
   "display_name": "Python 3",
   "language": "python",
   "name": "python3"
  },
  "language_info": {
   "codemirror_mode": {
    "name": "ipython",
    "version": 3
   },
   "file_extension": ".py",
   "mimetype": "text/x-python",
   "name": "python",
   "nbconvert_exporter": "python",
   "pygments_lexer": "ipython3",
   "version": "3.8.5-final"
  }
 },
 "nbformat": 4,
 "nbformat_minor": 4
}