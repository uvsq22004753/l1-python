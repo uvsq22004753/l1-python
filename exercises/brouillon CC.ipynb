{
 "metadata": {
  "language_info": {
   "codemirror_mode": {
    "name": "ipython",
    "version": 3
   },
   "file_extension": ".py",
   "mimetype": "text/x-python",
   "name": "python",
   "nbconvert_exporter": "python",
   "pygments_lexer": "ipython3",
   "version": "3.8.5-final"
  },
  "orig_nbformat": 2,
  "kernelspec": {
   "name": "python3",
   "display_name": "Python 3"
  }
 },
 "nbformat": 4,
 "nbformat_minor": 2,
 "cells": [
  {
   "cell_type": "code",
   "execution_count": 14,
   "metadata": {},
   "outputs": [
    {
     "output_type": "stream",
     "name": "stdout",
     "text": [
      "Gagné\n"
     ]
    }
   ],
   "source": [
    "mot = input(\"saisissez un mot\")\n",
    "if \"informatique\" <= mot < \"physique\" : \n",
    "    print(\"Gagné\")"
   ]
  },
  {
   "cell_type": "code",
   "execution_count": 7,
   "metadata": {},
   "outputs": [
    {
     "output_type": "stream",
     "name": "stdout",
     "text": [
      "wwwwwwwwww\nwwwwwwwww\nwwwwwwww\nwwwwwww\nwwwwww\nwwwww\nwwww\nwww\nww\nw\n"
     ]
    }
   ],
   "source": [
    "n = 10 \n",
    "for i in range(0,n):\n",
    "    print(\"w\"*(n-i))"
   ]
  },
  {
   "cell_type": "code",
   "execution_count": 33,
   "metadata": {},
   "outputs": [
    {
     "output_type": "stream",
     "name": "stdout",
     "text": [
      "2\n"
     ]
    }
   ],
   "source": [
    "import random \n",
    "num1, num2 = random.randint(1,10), random.randint(1,10)\n",
    "count = 0\n",
    "while num1 != num2 :\n",
    "    count += 1 \n",
    "    num1, num2 = random.randint(1,10), random.randint(1,10)\n",
    "print(count)"
   ]
  },
  {
   "cell_type": "code",
   "execution_count": null,
   "metadata": {},
   "outputs": [],
   "source": [
    "num"
   ]
  }
 ]
}