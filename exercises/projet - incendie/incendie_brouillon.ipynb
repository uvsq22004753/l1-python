{
 "metadata": {
  "language_info": {
   "codemirror_mode": {
    "name": "ipython",
    "version": 3
   },
   "file_extension": ".py",
   "mimetype": "text/x-python",
   "name": "python",
   "nbconvert_exporter": "python",
   "pygments_lexer": "ipython3",
   "version": "3.8.5-final"
  },
  "orig_nbformat": 2,
  "kernelspec": {
   "name": "python3",
   "display_name": "Python 3.8.5 64-bit ('l1-python': conda)",
   "metadata": {
    "interpreter": {
     "hash": "ca722e5cbebffff18c2747035ca8d2e532d25cc6638ec7484ba653f8c47584ff"
    }
   }
  }
 },
 "nbformat": 4,
 "nbformat_minor": 2,
 "cells": [
  {
   "cell_type": "code",
   "execution_count": 27,
   "metadata": {},
   "outputs": [],
   "source": [
    "import tkinter as tk \n",
    "import random as rd\n"
   ]
  },
  {
   "cell_type": "code",
   "execution_count": 55,
   "metadata": {},
   "outputs": [],
   "source": [
    "def creer_terrain():\n",
    "    couleurs = [\"dodger blue\", \"green4\",\"goldenrod1\"]\n",
    "    for i in range(LARGEUR//LARGEUR_PARCELLE):\n",
    "        for j in range(HAUTEUR//LARGEUR_PARCELLE):\n",
    "            terrain.create_rectangle((i*LARGEUR_PARCELLE, j*LARGEUR_PARCELLE),\n",
    "                ((i+1)*LARGEUR_PARCELLE, (j+1)*LARGEUR_PARCELLE), fill=couleurs[rd.randint(0,2)])"
   ]
  },
  {
   "cell_type": "code",
   "execution_count": 57,
   "metadata": {},
   "outputs": [],
   "source": [
    "LARGEUR = 500\n",
    "HAUTEUR = 500\n",
    "LARGEUR_PARCELLE = 10\n",
    "simulation = tk.Tk()\n",
    "simulation.title(\"propagation d'un incendie\")\n",
    "\n",
    "terrain = tk.Canvas(simulation, bg=\"black\", height=HAUTEUR, width=LARGEUR)\n",
    "bouton_creer_terrain = tk.Button(simulation, text=\"Générer le terrain\", bg=\"NavajoWhite2\", command=creer_terrain)\n",
    "\n",
    "terrain.grid(column=1, row=0)\n",
    "bouton_creer_terrain.grid(column=0,row=0)\n",
    "\n",
    "simulation.mainloop()\n"
   ]
  },
  {
   "cell_type": "code",
   "execution_count": null,
   "metadata": {},
   "outputs": [],
   "source": []
  }
 ]
}