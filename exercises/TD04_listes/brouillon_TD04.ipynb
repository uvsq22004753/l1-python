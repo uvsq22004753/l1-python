{
 "metadata": {
  "language_info": {
   "codemirror_mode": {
    "name": "ipython",
    "version": 3
   },
   "file_extension": ".py",
   "mimetype": "text/x-python",
   "name": "python",
   "nbconvert_exporter": "python",
   "pygments_lexer": "ipython3",
   "version": "3.8.5-final"
  },
  "orig_nbformat": 2,
  "kernelspec": {
   "name": "python3",
   "display_name": "Python 3"
  }
 },
 "nbformat": 4,
 "nbformat_minor": 2,
 "cells": [
  {
   "cell_type": "code",
   "execution_count": 90,
   "metadata": {},
   "outputs": [],
   "source": [
    "def syracuse(n):\n",
    "    \"\"\" Retourne la liste des valeurs de la suite en partant de n jusqu'à 1 \"\"\"\n",
    "    valeurs_suite_syracuse = []\n",
    "    while n != 1:\n",
    "        valeurs_suite_syracuse += [int(n)]\n",
    "        if n % 2 == 0:\n",
    "            n /= 2\n",
    "        else : \n",
    "            n = n*3 + 1 \n",
    "    valeurs_suite_syracuse.append(1)   \n",
    "    return (valeurs_suite_syracuse)"
   ]
  },
  {
   "cell_type": "code",
   "execution_count": 91,
   "metadata": {},
   "outputs": [
    {
     "output_type": "stream",
     "name": "stdout",
     "text": [
      "[3, 10, 5, 16, 8, 4, 2, 1]\n"
     ]
    }
   ],
   "source": [
    "print(syracuse(3))"
   ]
  },
  {
   "cell_type": "code",
   "execution_count": 92,
   "metadata": {},
   "outputs": [],
   "source": [
    "def testeConjecture(n_max):\n",
    "    \"\"\" Teste la conjecture de Collatz pour toutes les valeurs de 2 à n_max \"\"\"\n",
    "    test = True\n",
    "    iteration = 1 \n",
    "    while iteration <= n_max and test:\n",
    "          test = syracuse(iteration)[len(syracuse(iteration))-1] == 1\n",
    "          iteration += 1\n",
    "    return test \n",
    "            "
   ]
  },
  {
   "cell_type": "code",
   "execution_count": 93,
   "metadata": {
    "tags": []
   },
   "outputs": [
    {
     "output_type": "stream",
     "name": "stdout",
     "text": [
      "True\n"
     ]
    }
   ],
   "source": [
    "print(testeConjecture(10000))"
   ]
  },
  {
   "cell_type": "code",
   "execution_count": 94,
   "metadata": {},
   "outputs": [],
   "source": [
    "def tempsVol(n):\n",
    "    \"\"\" Retourne le temps de vol de n \"\"\"\n",
    "    return len(syracuse(n))-1 "
   ]
  },
  {
   "cell_type": "code",
   "execution_count": 95,
   "metadata": {},
   "outputs": [
    {
     "output_type": "stream",
     "name": "stdout",
     "text": [
      "Le temps de vol de 3 est 7\n"
     ]
    }
   ],
   "source": [
    "print(\"Le temps de vol de\", 3, \"est\", tempsVol(3))"
   ]
  },
  {
   "cell_type": "code",
   "execution_count": 96,
   "metadata": {},
   "outputs": [],
   "source": [
    "def tempsVolListe(n_max):\n",
    "    \"\"\" Retourne la liste de tous les temps de vol de 1 à n_max \"\"\"\n",
    "    return [len(syracuse(n))-1 for n in range(1,n_max + 1)]"
   ]
  },
  {
   "cell_type": "code",
   "execution_count": 97,
   "metadata": {},
   "outputs": [
    {
     "output_type": "stream",
     "name": "stdout",
     "text": [
      "[0, 1, 7, 2, 5, 8, 16, 3, 19, 6, 14, 9, 9, 17, 17, 4, 12, 20, 20, 7, 7, 15, 15, 10, 23, 10, 111, 18, 18, 18, 106, 5, 26, 13, 13, 21, 21, 21, 34, 8, 109, 8, 29, 16, 16, 16, 104, 11, 24, 24, 24, 11, 11, 112, 112, 19, 32, 19, 32, 19, 19, 107, 107, 6, 27, 27, 27, 14, 14, 14, 102, 22, 115, 22, 14, 22, 22, 35, 35, 9, 22, 110, 110, 9, 9, 30, 30, 17, 30, 17, 92, 17, 17, 105, 105, 12, 118, 25, 25, 25]\n100\n"
     ]
    }
   ],
   "source": [
    "print(tempsVolListe(100))\n",
    "print(len(tempsVolListe(100)))"
   ]
  },
  {
   "cell_type": "code",
   "execution_count": 98,
   "metadata": {},
   "outputs": [],
   "source": [
    "def max_tempsVolListe(n_max):\n",
    "    return max(tempsVolListe(n_max)), tempsVolListe(n_max).index(max(tempsVolListe(n_max))) + 1"
   ]
  },
  {
   "cell_type": "code",
   "execution_count": 99,
   "metadata": {},
   "outputs": [
    {
     "output_type": "stream",
     "name": "stdout",
     "text": [
      "(261, 6171)\n"
     ]
    }
   ],
   "source": [
    "print(max_tempsVolListe(10000))"
   ]
  },
  {
   "cell_type": "code",
   "execution_count": 100,
   "metadata": {},
   "outputs": [],
   "source": [
    "def altitude_maximale(n_max):\n",
    "    \"\"\"renvoie l'entier compris entre 1 et n_max ayant la plus grande altitude maximale\"\"\"\n",
    "    altitude_maximale_n = [max(syracuse(i)) for i in range(1, n_max +1)]\n",
    "    return max(altitude_maximale_n), altitude_maximale_n.index(max(altitude_maximale_n)) + 1"
   ]
  },
  {
   "cell_type": "code",
   "execution_count": 101,
   "metadata": {},
   "outputs": [
    {
     "output_type": "stream",
     "name": "stdout",
     "text": [
      "(27114424, 9663)\n"
     ]
    }
   ],
   "source": [
    "print(altitude_maximale(10000))"
   ]
  },
  {
   "cell_type": "code",
   "execution_count": 35,
   "metadata": {},
   "outputs": [
    {
     "output_type": "stream",
     "name": "stdout",
     "text": [
      "[[4, 14, 15, 1], [9, 7, 6, 12], [5, 11, 10, 8], [16, 2, 3, 13]]\n"
     ]
    }
   ],
   "source": [
    "carre_mag = [[4, 14, 15, 1], [9, 7, 6, 12], [5, 11, 10, 8], [16, 2, 3, 13]]\n",
    "print(carre_mag)"
   ]
  },
  {
   "cell_type": "code",
   "execution_count": 36,
   "metadata": {},
   "outputs": [
    {
     "output_type": "stream",
     "name": "stdout",
     "text": [
      "[[4, 14, 15, 1], [9, 7, 6, 12], [5, 11, 10, 8], [16, 2, 7, 13]] [[4, 14, 15, 1], [9, 7, 6, 12], [5, 11, 10, 8], [16, 2, 3, 13]]\n"
     ]
    }
   ],
   "source": [
    "carre_pas_mag = []\n",
    "for i in range(0, len(carre_mag)):\n",
    "    carre_pas_mag.append(carre_mag[i].copy())\n",
    "for i in range(0,len(carre_pas_mag)): \n",
    "    if 3 in carre_pas_mag[i] : \n",
    "        carre_pas_mag[i][carre_pas_mag[i].index(3)] = 7 \n",
    "print(carre_pas_mag, carre_mag)"
   ]
  },
  {
   "cell_type": "code",
   "execution_count": 37,
   "metadata": {},
   "outputs": [],
   "source": [
    "import numpy as np\n",
    "def afficheCarre(carre):\n",
    "    \"\"\"la fonction permet d'afficher les listes deux dimensions sous forme de carrés\"\"\"\n",
    "    return np.array(carre)"
   ]
  },
  {
   "cell_type": "code",
   "execution_count": 38,
   "metadata": {},
   "outputs": [
    {
     "output_type": "stream",
     "name": "stdout",
     "text": [
      "[[ 4 14 15  1]\n [ 9  7  6 12]\n [ 5 11 10  8]\n [16  2  3 13]]\n[[ 4 14 15  1]\n [ 9  7  6 12]\n [ 5 11 10  8]\n [16  2  7 13]]\n"
     ]
    }
   ],
   "source": [
    "print(afficheCarre(carre_mag))\n",
    "print(afficheCarre(carre_pas_mag))"
   ]
  },
  {
   "cell_type": "code",
   "execution_count": 65,
   "metadata": {},
   "outputs": [],
   "source": [
    "def testLignesEgales(carre):\n",
    "    \"\"\" Renvoie la somme des éléments d'une ligne de la liste 2D carre si toutes les lignes ont la même somme, et -1 sinon \"\"\"\n",
    "    sum_ligne = sum(carre[0])\n",
    "    for i in range(1, len(carre)):\n",
    "        if sum(carre[i]) != sum_ligne:\n",
    "            sum_ligne = -1\n",
    "            break\n",
    "    return sum_ligne"
   ]
  },
  {
   "cell_type": "code",
   "execution_count": 70,
   "metadata": {},
   "outputs": [
    {
     "output_type": "stream",
     "name": "stdout",
     "text": [
      "34\n-1\n"
     ]
    }
   ],
   "source": [
    "print(testLignesEgales(carre_mag))\n",
    "print(testLignesEgales(carre_pas_mag))"
   ]
  },
  {
   "cell_type": "code",
   "execution_count": null,
   "metadata": {},
   "outputs": [],
   "source": [
    "def testColonnesEgales(carre):\n",
    "    \"\"\" Renvoie la somme des éléments d'une colonne de la liste 2D carre si toutes les colonnes ont la même somme, et -1 sinon \"\"\"\n",
    "    carre_par_colonne = []\n",
    "    for i in carre:\n",
    "        carre_par_colonne.append()\n"
   ]
  }
 ]
}