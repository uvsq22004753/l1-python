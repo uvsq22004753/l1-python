{
 "metadata": {
  "language_info": {
   "codemirror_mode": {
    "name": "ipython",
    "version": 3
   },
   "file_extension": ".py",
   "mimetype": "text/x-python",
   "name": "python",
   "nbconvert_exporter": "python",
   "pygments_lexer": "ipython3",
   "version": "3.8.5-final"
  },
  "orig_nbformat": 2,
  "kernelspec": {
   "name": "python3",
   "display_name": "Python 3"
  }
 },
 "nbformat": 4,
 "nbformat_minor": 2,
 "cells": [
  {
   "cell_type": "code",
   "execution_count": 5,
   "metadata": {},
   "outputs": [],
   "source": [
    "import tkinter as tk\n",
    "\n",
    "CANVAS_WIDTH, CANVAS_HEIGHT = 600, 600\n",
    "\n",
    "root = tk.Tk()\n",
    "\n",
    "canvas = tk.Canvas(root, width = CANVAS_WIDTH, height = CANVAS_HEIGHT)\n",
    "\n",
    "# Début de votre code\n",
    "x0 = CANVAS_WIDTH / 2\n",
    "y = 100 \n",
    "y1 = CANVAS_HEIGHT - 100\n",
    "canvas.create_line(x0, y, x0, y1)\n",
    "canvas.create_oval(x0 - 50, y + 50, x0 + 50, y - 50)\n",
    "canvas.create_oval(x0 - 50, y1 + 50, x0 + 50, y1 - 50)\n",
    "canvas.create_oval(x0 + 50, (y + y1) / 2 - 50, x0 - 50, (y + y1) / 2 + 50)\n",
    "    \n",
    "# Fin de votre code\n",
    "\n",
    "canvas.grid()\n",
    "root.mainloop()\n"
   ]
  },
  {
   "cell_type": "code",
   "execution_count": 45,
   "metadata": {},
   "outputs": [],
   "source": [
    "import tkinter as tk \n",
    " \n",
    "dessin = tk.Tk()\n",
    "dessin.title(\"Mon dessin\")\n",
    "\n",
    "label1 = tk.Button(dessin, text=\"Cercle\", font=(\"helvetica\",\"16\"))\n",
    "label2 = tk.Button(dessin, text=\"Carré\", font=(\"helvetica\",\"16\"))\n",
    "label3 = tk.Button(dessin, text=\"Croix\", font=(\"helvetica\",\"16\"))\n",
    "label4 = tk.Button(dessin, text=\"Choisir une couleur\", font=(\"helvetica\",\"16\"))\n",
    "label5 = tk.Canvas(dessin, bg=\"black\", width = 500, height = 500)\n",
    "\n",
    "label1.grid(column = 0, row = 1, rowspan = 4)\n",
    "label2.grid(column = 0, row = 5, rowspan = 4)\n",
    "label3.grid(column = 0, row = 9, rowspan = 4)\n",
    "label4.grid(column = 1, row = 0, columnspan = 12)\n",
    "label5.grid(column = 1, row = 1, columnspan = 12, rowspan = 12)\n",
    "\n",
    "dessin.mainloop()"
   ]
  },
  {
   "cell_type": "code",
   "execution_count": null,
   "metadata": {},
   "outputs": [],
   "source": []
  }
 ]
}