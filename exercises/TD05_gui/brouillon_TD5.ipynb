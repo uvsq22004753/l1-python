{
 "metadata": {
  "language_info": {
   "codemirror_mode": {
    "name": "ipython",
    "version": 3
   },
   "file_extension": ".py",
   "mimetype": "text/x-python",
   "name": "python",
   "nbconvert_exporter": "python",
   "pygments_lexer": "ipython3",
   "version": "3.8.5-final"
  },
  "orig_nbformat": 2,
  "kernelspec": {
   "name": "python3",
   "display_name": "Python 3"
  }
 },
 "nbformat": 4,
 "nbformat_minor": 2,
 "cells": [
  {
   "cell_type": "code",
   "execution_count": 25,
   "metadata": {},
   "outputs": [
    {
     "output_type": "stream",
     "name": "stdout",
     "text": [
      "[1, 3]\n"
     ]
    }
   ],
   "source": [
    "import tkinter as tk\n",
    "import random as rd\n",
    "\n",
    "dessin = tk.Tk()\n",
    "dessin.title(\"Mon dessin\")\n",
    "\n",
    "choix = \"blue\"\n",
    "objets = []\n",
    "\n",
    "def Cercle():\n",
    "    global objets\n",
    "    x = rd.randint(55, 445)\n",
    "    y = rd.randint(55, 445)\n",
    "    return label5.create_oval(x-50, y+50, x+50, y-50, fill=choix)\n",
    "\n",
    "\n",
    "def Carre():\n",
    "    global objets\n",
    "    x = rd.randint(10, 400)\n",
    "    y = rd.randint(10, 400)\n",
    "    return label5.create_rectangle(x, y, x+100, y+100, fill=choix)\n",
    "\n",
    "\n",
    "def Croix():\n",
    "    global objets\n",
    "    x = rd.randint(10, 400)\n",
    "    y = rd.randint(10, 400)\n",
    "    return label5.create_line(x, y, x+90, y+90, fill=choix, width=10), label5.create_line(x+90, y, x, y+90, fill=choix, width = 10)\n",
    "\n",
    "\n",
    "def Couleur():\n",
    "    global choix\n",
    "    choix = input(\"choisir une couleur entre white, black, red, green, blue, cyan, yellow\")\n",
    "    return choix\n",
    "\n",
    "def Undo():\n",
    "    global objets \n",
    "    \n",
    "\n",
    "label1 = tk.Button(dessin, text=\"Cercle\", font=(\"helvetica\",\"16\"), fg = \"green\", bg = \"white\",padx = 17, command = Cercle)\n",
    "label2 = tk.Button(dessin, text=\"Carré\", font=(\"helvetica\",\"16\"), fg = \"green\", bg = \"white\",padx = 20, command = Carre)\n",
    "label3 = tk.Button(dessin, text=\"Croix\", font=(\"helvetica\",\"16\"), fg = \"green\", bg = \"white\",padx = 22, command = Croix)\n",
    "label4 = tk.Button(dessin, text=\"Choisir une couleur\", font=(\"helvetica\",\"16\"), fg = \"green\", bg = \"white\", command = Couleur)\n",
    "label6 = tk.Button(dessin, text=\"Undo\", font=(\"helvetica\",\"16\"), fg = \"green\", bg = \"white\")\n",
    "label5 = tk.Canvas(dessin, bg=\"black\", width=500, height=500, relief=\"groove\", borderwidth=10)\n",
    "\n",
    "label1.grid(column = 0, row = 1, rowspan = 4)\n",
    "label2.grid(column = 0, row = 5, rowspan = 4)\n",
    "label3.grid(column = 0, row = 9, rowspan = 4)\n",
    "label4.grid(column = 1, row = 0, columnspan = 8)\n",
    "label6.grid(column = 8, row = 0, columnspan = 8)\n",
    "label5.grid(column = 1, row = 1, columnspan = 12, rowspan = 12)\n",
    "\n",
    "dessin.mainloop()"
   ]
  },
  {
   "cell_type": "code",
   "execution_count": null,
   "metadata": {},
   "outputs": [],
   "source": []
  }
 ]
}