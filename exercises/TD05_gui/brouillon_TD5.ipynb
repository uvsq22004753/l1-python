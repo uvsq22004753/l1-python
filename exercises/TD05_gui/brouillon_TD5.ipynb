{
 "metadata": {
  "language_info": {
   "codemirror_mode": {
    "name": "ipython",
    "version": 3
   },
   "file_extension": ".py",
   "mimetype": "text/x-python",
   "name": "python",
   "nbconvert_exporter": "python",
   "pygments_lexer": "ipython3",
   "version": "3.8.5-final"
  },
  "orig_nbformat": 2,
  "kernelspec": {
   "name": "python3",
   "display_name": "Python 3"
  }
 },
 "nbformat": 4,
 "nbformat_minor": 2,
 "cells": [
  {
   "cell_type": "code",
   "execution_count": 2,
   "metadata": {},
   "outputs": [],
   "source": [
    "import tkinter as tk \n",
    "import random as rd \n",
    "\n",
    "couleur = tk.Tk()\n",
    "couleur.title(\"couleurs\")\n",
    "\n",
    "def get_color(r, g, b):\n",
    "    \"\"\" Retourne une couleur à partir de ses composantes r, g, b entre 0 et 255\"\"\"\n",
    "    return '#{:02x}{:02x}{:02x}'.format(r, g, b)\n",
    "\n",
    "def ecran_aleatoire():\n",
    "    couleurs = [\"blue\", \"green\", \"black\", \"yellow\", \"magenta\", \"red\"]\n",
    "    for i in range(25):\n",
    "        for j in range(25):\n",
    "            print(draw_pixel(i, j, couleurs[0]))\n",
    "\n",
    "\n",
    "label1 = tk.Button(couleur, text = \"Aléatoire\", font=(\"helvetica\",\"16\"), fg = \"green\", bg = \"white\",padx = 17, command = ecran_aleatoire)\n",
    "label2 = tk.Button(couleur, text = \"Dégradé gris\", font=(\"helvetica\",\"16\"), fg = \"green\", bg = \"white\",padx = 17)\n",
    "label3 = tk.Button(couleur, text = \"Dégradé 2D\", font=(\"helvetica\",\"16\"), fg = \"green\", bg = \"white\",padx = 17)\n",
    "label4 = tk.Canvas(couleur, width = 256, height = 256, bg = \"black\")\n",
    "\n",
    "label1.grid(column = 0, row = 1, rowspan = 4)\n",
    "label2.grid(column = 0, row = 5, rowspan = 4)\n",
    "label3.grid(column = 0, row = 9, rowspan = 4)\n",
    "label4.grid(column = 1, row = 1, columnspan = 12, rowspan = 12)\n",
    "\n",
    "def draw_pixel(i, j, color):\n",
    "    return label4.create_rectangle(i,j,i+12,j+12, fill = color)\n",
    "\n",
    "couleur.mainloop()"
   ]
  },
  {
   "cell_type": "code",
   "execution_count": null,
   "metadata": {},
   "outputs": [],
   "source": [
    "def separer_liste(list):\n",
    "    a = 0\n",
    "    for i in list:\n",
    "        a = i, \n",
    "    return a "
   ]
  },
  {
   "cell_type": "code",
   "execution_count": null,
   "metadata": {},
   "outputs": [],
   "source": []
  }
 ]
}