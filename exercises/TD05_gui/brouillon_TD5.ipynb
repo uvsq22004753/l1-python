{
 "metadata": {
  "language_info": {
   "codemirror_mode": {
    "name": "ipython",
    "version": 3
   },
   "file_extension": ".py",
   "mimetype": "text/x-python",
   "name": "python",
   "nbconvert_exporter": "python",
   "pygments_lexer": "ipython3",
   "version": "3.8.5-final"
  },
  "orig_nbformat": 2,
  "kernelspec": {
   "name": "python3",
   "display_name": "Python 3"
  }
 },
 "nbformat": 4,
 "nbformat_minor": 2,
 "cells": [
  {
   "cell_type": "code",
   "execution_count": 21,
   "metadata": {},
   "outputs": [],
   "source": [
    "import tkinter as tk \n",
    "\n",
    "clic = tk.Tk()\n",
    "clic.title(\"exercice 6\")\n",
    "\n",
    "x = []\n",
    "y = []\n",
    "\n",
    "def Coordonnees(event):\n",
    "    global x \n",
    "    global y \n",
    "    x.append(event.x)\n",
    "    y.append(event.y)\n",
    "\n",
    "def clic3():\n",
    "    for i in x and j in y:\n",
    "\n",
    "    if (x[0] < 250 and x[1] < 250)\n",
    "    if x < 250 : \n",
    "        return label1.create_line((x-25,y+25),(x+25,y-25), fill=\"blue\")\n",
    "    else : \n",
    "        return label1.create_line((x-25,y+25),(x+25,y-25), fill=\"red\")\n",
    "\n",
    "label1 = tk.Canvas(clic, heigh=500, width=500, bg=\"black\")\n",
    "ligne = label1.create_line((250,0),(250,500), fill=\"white\")\n",
    "label1.bind(\"<Button-1>\", Coordonnees)\n",
    "\n",
    "label1.grid()\n",
    "\n",
    "clic.mainloop()"
   ]
  },
  {
   "cell_type": "code",
   "execution_count": null,
   "metadata": {},
   "outputs": [],
   "source": []
  }
 ]
}